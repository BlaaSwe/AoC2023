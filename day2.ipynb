{
 "cells": [
  {
   "cell_type": "markdown",
   "metadata": {},
   "source": [
    "# Advent of Code\n",
    "---"
   ]
  },
  {
   "cell_type": "code",
   "execution_count": 23,
   "metadata": {},
   "outputs": [],
   "source": [
    "# INPUT\n",
    "input = r'd:/adventofcode/day2_input.txt'\n",
    "test = r'd:/adventofcode/day2_part1_test.txt'"
   ]
  },
  {
   "cell_type": "markdown",
   "metadata": {},
   "source": [
    "### Day 2: Part 1\n",
    "---"
   ]
  },
  {
   "cell_type": "code",
   "execution_count": 24,
   "metadata": {},
   "outputs": [
    {
     "name": "stdout",
     "output_type": "stream",
     "text": [
      "Puzzle answer (Part 1): 2085\n"
     ]
    }
   ],
   "source": [
    "def parse_game_data(line):\n",
    "    # Split the line into game ID and rounds data\n",
    "    game_id, rounds = line.split(':')\n",
    "    game_id = int(game_id.strip().split(' ')[1])\n",
    "\n",
    "    # Split the rounds data and initialize the list to store each round's data\n",
    "    rounds_data = rounds.split(';')\n",
    "    game_rounds = []\n",
    "\n",
    "    # Process each round's data\n",
    "    for round_data in rounds_data:\n",
    "        round_counts = {'red': 0, 'green': 0, 'blue': 0}\n",
    "        for count in round_data.split(','):\n",
    "            parts = count.strip().split(' ')\n",
    "            number = int(parts[0])\n",
    "            color = parts[1]\n",
    "            round_counts[color] += number\n",
    "        game_rounds.append(round_counts)\n",
    "\n",
    "    return game_id, game_rounds\n",
    "\n",
    "def is_game_possible(game_rounds, max_cubes):\n",
    "    # Iterate through each round in the game\n",
    "    for round in game_rounds:\n",
    "        # Check each color's count in the round\n",
    "        for color, count in round.items():\n",
    "            # If the count of any color exceeds the maximum, the game is not possible\n",
    "            if count > max_cubes[color]:\n",
    "                return False\n",
    "    # If no round exceeds the maximum, the game is possible\n",
    "    return True\n",
    "\n",
    "def process_games(file_path):\n",
    "    # Define the maximum number of cubes for each color\n",
    "    max_cubes = {'red': 12, 'green': 13, 'blue': 14}\n",
    "    possible_games_sum = 0\n",
    "\n",
    "    # Open and read the file line by line\n",
    "    with open(file_path, 'r') as file:\n",
    "        for line in file:\n",
    "            # Parse the game data\n",
    "            game_id, game_rounds = parse_game_data(line)\n",
    "            # Check if the game is possible with the given cube constraints\n",
    "            if is_game_possible(game_rounds, max_cubes):\n",
    "                # Add the game ID to the sum if the game is possible\n",
    "                possible_games_sum += game_id\n",
    "\n",
    "    return possible_games_sum\n",
    "\n",
    "sum_of_possible_games = process_games(input)\n",
    "print(\"Puzzle answer (Part 1):\", sum_of_possible_games)"
   ]
  },
  {
   "cell_type": "markdown",
   "metadata": {},
   "source": [
    "### Day 2: Part 2\n",
    "---"
   ]
  },
  {
   "cell_type": "code",
   "execution_count": 25,
   "metadata": {},
   "outputs": [
    {
     "name": "stdout",
     "output_type": "stream",
     "text": [
      "Puzzle answer (Part 2): 79315\n"
     ]
    }
   ],
   "source": [
    "# Using same parse_game_data function as before\n",
    "\n",
    "def calculate_minimum_cubes_and_power(game_rounds):\n",
    "    # Initialize the maximum count for each color\n",
    "    max_cubes = {'red': 0, 'green': 0, 'blue': 0}\n",
    "\n",
    "    # Iterate through each round to find the maximum count for each color\n",
    "    for round in game_rounds:\n",
    "        for color, count in round.items():\n",
    "            max_cubes[color] = max(max_cubes[color], count)\n",
    "\n",
    "    # Calculate the power of the game\n",
    "    return max_cubes['red'] * max_cubes['green'] * max_cubes['blue']\n",
    "\n",
    "def process_games_for_power(file_path):\n",
    "    total_power = 0\n",
    "\n",
    "    # Open and read the file line by line\n",
    "    with open(file_path, 'r') as file:\n",
    "        for line in file:\n",
    "            # Parse the game data and calculate the power for each game\n",
    "            _, game_rounds = parse_game_data(line)\n",
    "            total_power += calculate_minimum_cubes_and_power(game_rounds)\n",
    "\n",
    "    return total_power\n",
    "\n",
    "sum_of_powers = process_games_for_power(input)\n",
    "print(\"Puzzle answer (Part 2):\", sum_of_powers)\n"
   ]
  }
 ],
 "metadata": {
  "kernelspec": {
   "display_name": "Python 3",
   "language": "python",
   "name": "python3"
  },
  "language_info": {
   "codemirror_mode": {
    "name": "ipython",
    "version": 3
   },
   "file_extension": ".py",
   "mimetype": "text/x-python",
   "name": "python",
   "nbconvert_exporter": "python",
   "pygments_lexer": "ipython3",
   "version": "3.10.11"
  }
 },
 "nbformat": 4,
 "nbformat_minor": 2
}
