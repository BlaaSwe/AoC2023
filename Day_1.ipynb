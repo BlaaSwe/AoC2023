{
 "cells": [
  {
   "cell_type": "markdown",
   "metadata": {},
   "source": [
    "# Advent of Code\n",
    "---"
   ]
  },
  {
   "cell_type": "code",
   "execution_count": 1,
   "metadata": {},
   "outputs": [],
   "source": [
    "# INPUT\n",
    "input = r'd:/adventofcode/day1_input.txt'\n",
    "test = r'd:/adventofcode/day1_part2_test.txt'\n",
    "\n",
    "# IMPORTS\n",
    "import re"
   ]
  },
  {
   "cell_type": "markdown",
   "metadata": {},
   "source": [
    "### Day 1: Part 1\n",
    "---"
   ]
  },
  {
   "cell_type": "code",
   "execution_count": 2,
   "metadata": {},
   "outputs": [
    {
     "name": "stdout",
     "output_type": "stream",
     "text": [
      "Puzzle answer (Part 1): 55621\n"
     ]
    }
   ],
   "source": [
    "# Function to read the file and sum the values\n",
    "def extract_and_sum(file_path):\n",
    "    total_sum = 0\n",
    "    with open(file_path, 'r') as file:\n",
    "        for line in file:\n",
    "            # Extract digits\n",
    "            digits = re.findall(r'\\d', line)\n",
    "            if digits:\n",
    "                # Form a two-digit number\n",
    "                two_digit_number = int(digits[0] + digits[-1])\n",
    "                total_sum += two_digit_number\n",
    "    return total_sum\n",
    "\n",
    "# Calculate the sum\n",
    "part1_value = extract_and_sum(input)\n",
    "print(f\"Puzzle answer (Part 1): {part1_value}\")"
   ]
  },
  {
   "cell_type": "markdown",
   "metadata": {},
   "source": [
    "### Day 1: Part 2\n",
    "---"
   ]
  },
  {
   "cell_type": "code",
   "execution_count": 3,
   "metadata": {},
   "outputs": [
    {
     "name": "stdout",
     "output_type": "stream",
     "text": [
      "Puzzle answer (Part 2): 53592\n"
     ]
    }
   ],
   "source": [
    "def translate_line(line):\n",
    "    # Mapping of written numbers to their corresponding digits\n",
    "    mapping = {\n",
    "        'one': '1', 'two': '2', 'three': '3', 'four': '4', 'five': '5',\n",
    "        'six': '6', 'seven': '7', 'eight': '8', 'nine': '9'\n",
    "    }\n",
    "\n",
    "    # Extend the mapping to include direct digit-to-digit mapping\n",
    "    mapping.update({str(i): str(i) for i in range(1, 10)})\n",
    "\n",
    "    # Define the regex pattern for matching digits and written numbers\n",
    "    regex_pattern = '|'.join(mapping.keys())\n",
    "\n",
    "    # Find all matches in the line and map them to their digit form\n",
    "    found_matches = re.findall(rf'(?=({regex_pattern}))', line)\n",
    "    digits = [mapping[match] for match in found_matches]\n",
    "\n",
    "    return int(digits[0] + digits[-1]) if digits else 0\n",
    "\n",
    "# Function to read the file, apply translation, and sum the values\n",
    "def extract_and_sum_part2(file_path):\n",
    "    total_sum = 0\n",
    "    with open(file_path, 'r') as file:\n",
    "        for line in file:\n",
    "            # Apply the translation from written numbers to digits\n",
    "            number = translate_line(line)\n",
    "            total_sum += number\n",
    "    return total_sum\n",
    "\n",
    "# Calculate the sum\n",
    "part1_value = extract_and_sum_part2(input)\n",
    "print(f\"Puzzle answer (Part 2): {part1_value}\")\n"
   ]
  }
 ],
 "metadata": {
  "kernelspec": {
   "display_name": "Python 3",
   "language": "python",
   "name": "python3"
  },
  "language_info": {
   "codemirror_mode": {
    "name": "ipython",
    "version": 3
   },
   "file_extension": ".py",
   "mimetype": "text/x-python",
   "name": "python",
   "nbconvert_exporter": "python",
   "pygments_lexer": "ipython3",
   "version": "3.10.11"
  }
 },
 "nbformat": 4,
 "nbformat_minor": 2
}
